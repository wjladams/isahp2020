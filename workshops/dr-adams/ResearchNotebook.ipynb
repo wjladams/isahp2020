{
 "cells": [
  {
   "cell_type": "markdown",
   "metadata": {},
   "source": [
    "# Research notebook for ISAHP2020 Workshop"
   ]
  },
  {
   "cell_type": "markdown",
   "metadata": {},
   "source": [
    "This is where I first worked through calculations for the official Jupyter notebook results.  These are less organized and more exploratory.  I will try to include reasonable comments and text to help both myself and others to read this."
   ]
  },
  {
   "cell_type": "markdown",
   "metadata": {},
   "source": [
    "## Imports needed"
   ]
  },
  {
   "cell_type": "code",
   "execution_count": 1,
   "metadata": {},
   "outputs": [],
   "source": [
    "from pyanp import limitmatrix as lm\n",
    "from pyanp import anp as anp\n",
    "from pyanp import rowsens as rowsens\n",
    "import numpy as np\n",
    "import pandas as pd\n",
    "from IPython.display import Math, HTML"
   ]
  },
  {
   "cell_type": "markdown",
   "metadata": {},
   "source": [
    "## Some custom functions"
   ]
  },
  {
   "cell_type": "code",
   "execution_count": 2,
   "metadata": {},
   "outputs": [],
   "source": [
    "from isahp2020 import *"
   ]
  },
  {
   "cell_type": "markdown",
   "metadata": {},
   "source": [
    "# First model, code named m1"
   ]
  },
  {
   "cell_type": "markdown",
   "metadata": {},
   "source": [
    "This network has 5 nodes, 3 criteria and 2 alternatives.  The layout is:\n",
    "\n",
    "* Criteria: N1, N2, N3\n",
    "* Alternatives: A1, A2\n",
    "* The order in all of the supermatrices is N1,N2,N3,A1,A2\n",
    "\n",
    "In the first version of the model we have a fully connect model.  I include the unscaled supermatrix, cluster matrix and scaled supermatrix first"
   ]
  },
  {
   "cell_type": "markdown",
   "metadata": {},
   "source": [
    "## For presentation fully connect"
   ]
  },
  {
   "cell_type": "markdown",
   "metadata": {},
   "source": [
    "This model is designed with the following ideas:\n",
    "* A1 beats A2 for every node except N2\n",
    "* N2 has N3 as the most important criteria, and N3 has A1 win, but not by much\n",
    "* Therefore, when we do sensitivity on N2 upward, we should see a big change"
   ]
  },
  {
   "cell_type": "code",
   "execution_count": 3,
   "metadata": {},
   "outputs": [],
   "source": [
    "alts=[3,4]\n",
    "m1unscaled = np.array([\n",
    "    [0.60, 0.20, 0.40, 0.20, 0.10],\n",
    "    [0.30, 0.20, 0.35, 0.30, 0.30],\n",
    "    [0.10, 0.60, 0.25, 0.50, 0.60],\n",
    "    [0.20, 0.90, 0.40, 0.30, 0.25],\n",
    "    [0.80, 0.10, 0.60, 0.70, 0.75]\n",
    "])\n",
    "m1cluster = np.array([\n",
    "    [0.8, 0.6],\n",
    "    [0.2, 0.4]\n",
    "])\n",
    "m1scaled = scale_mat(m1unscaled, m1cluster, [3,2])\n",
    "m1limit = lm.calculus(m1scaled)"
   ]
  },
  {
   "cell_type": "code",
   "execution_count": 4,
   "metadata": {},
   "outputs": [
    {
     "name": "stdout",
     "output_type": "stream",
     "text": [
      "[[0.48 0.16 0.32 0.12 0.06]\n",
      " [0.24 0.16 0.28 0.18 0.18]\n",
      " [0.08 0.48 0.2  0.3  0.36]\n",
      " [0.04 0.18 0.08 0.12 0.1 ]\n",
      " [0.16 0.02 0.12 0.28 0.3 ]]\n",
      "[[0.26903466 0.26903466 0.26903466 0.26903466 0.26903466]\n",
      " [0.21807019 0.21807019 0.21807019 0.21807019 0.21807019]\n",
      " [0.26289515 0.26289515 0.26289515 0.26289515 0.26289515]\n",
      " [0.09800575 0.09800575 0.09800575 0.09800575 0.09800575]\n",
      " [0.15199425 0.15199425 0.15199425 0.15199425 0.15199425]]\n"
     ]
    }
   ],
   "source": [
    "print(m1scaled)\n",
    "print(m1limit)"
   ]
  },
  {
   "cell_type": "code",
   "execution_count": 5,
   "metadata": {},
   "outputs": [
    {
     "data": {
      "text/plain": [
       "array([0.39202299, 0.60797701])"
      ]
     },
     "execution_count": 5,
     "metadata": {},
     "output_type": "execute_result"
    }
   ],
   "source": [
    "lmsynth(m1scaled, alts)"
   ]
  },
  {
   "cell_type": "code",
   "execution_count": 6,
   "metadata": {},
   "outputs": [
    {
     "name": "stdout",
     "output_type": "stream",
     "text": [
      "[[0.55578947 0.1752381  0.38222222 0.13317073 0.06658537]\n",
      " [0.12       0.08       0.14       0.09       0.09      ]\n",
      " [0.09263158 0.52571429 0.23888889 0.33292683 0.3995122 ]\n",
      " [0.04631579 0.19714286 0.09555556 0.13317073 0.11097561]\n",
      " [0.18526316 0.02190476 0.14333333 0.31073171 0.33292683]]\n",
      "[[0.24 0.08 0.16 0.06 0.03]\n",
      " [0.62 0.58 0.64 0.59 0.59]\n",
      " [0.04 0.24 0.1  0.15 0.18]\n",
      " [0.02 0.09 0.04 0.06 0.05]\n",
      " [0.08 0.01 0.06 0.14 0.15]]\n",
      "[[0.096      0.032      0.064      0.024      0.012     ]\n",
      " [0.41723077 0.18438095 0.38541176 0.19963636 0.18919149]\n",
      " [0.13907692 0.55314286 0.27529412 0.33272727 0.37838298]\n",
      " [0.06953846 0.20742857 0.11011765 0.13309091 0.10510638]\n",
      " [0.27815385 0.02304762 0.16517647 0.31054545 0.31531915]]\n",
      "[[0.32976262 0.32976262 0.32976262 0.32976262 0.32976262]\n",
      " [0.1119541  0.1119541  0.1119541  0.1119541  0.1119541 ]\n",
      " [0.26361532 0.26361532 0.26361532 0.26361532 0.26361532]\n",
      " [0.09739677 0.09739677 0.09739677 0.09739677 0.09739677]\n",
      " [0.19727119 0.19727119 0.19727119 0.19727119 0.19727119]]\n",
      "[[0.10860937 0.10860937 0.10860937 0.10860937 0.10860937]\n",
      " [0.59648326 0.59648326 0.59648326 0.59648326 0.59648326]\n",
      " [0.18379625 0.18379625 0.18379625 0.18379625 0.18379625]\n",
      " [0.06945766 0.06945766 0.06945766 0.06945766 0.06945766]\n",
      " [0.04165345 0.04165345 0.04165345 0.04165345 0.04165345]]\n"
     ]
    }
   ],
   "source": [
    "m1scaledUpRow1_075=rowsens.row_adjust(m1scaled, 1, 0.75, p0mode=0.5)\n",
    "m1scaledDownRow0_01=rowsens.row_adjust(m1scaled, 0, 0.1, p0mode=0.5)\n",
    "m1scaledDownRow1_025=rowsens.row_adjust(m1scaled, 1, 0.25, p0mode=0.5)\n",
    "m1scaledDownRow1_025_limit=lm.calculus(m1scaledDownRow1_025)\n",
    "m1scaledUpRow1_075_limit = lm.calculus(m1scaledUpRow1_075)\n",
    "print(m1scaledDownRow1_025)\n",
    "print(m1scaledUpRow1_075)\n",
    "print(m1scaledDownRow0_01)\n",
    "print(m1scaledDownRow1_025_limit)\n",
    "print(m1scaledUpRow1_075_limit)"
   ]
  },
  {
   "cell_type": "code",
   "execution_count": 7,
   "metadata": {},
   "outputs": [
    {
     "name": "stdout",
     "output_type": "stream",
     "text": [
      "[0.39202299 0.60797701]\n",
      "[0.62511897 0.37488103]\n",
      "[0.33053056 0.66946944]\n"
     ]
    }
   ],
   "source": [
    "# Scaling up row 1 makes alt A1 win.  \n",
    "# Even though all of the other nodes have A2 win!\n",
    "print(lmsynth(m1scaled, alts))\n",
    "print(lmsynth(m1scaledUpRow1_075, alts))\n",
    "print(lmsynth(m1scaledDownRow1_025, alts))"
   ]
  },
  {
   "cell_type": "code",
   "execution_count": 8,
   "metadata": {},
   "outputs": [
    {
     "data": {
      "text/plain": [
       "array([0.43521556, 0.56478444])"
      ]
     },
     "execution_count": 8,
     "metadata": {},
     "output_type": "execute_result"
    }
   ],
   "source": [
    "# Criteria row 0 has A2 win by most, so decreasing the importance of N1 (row 0)\n",
    "# makes A2 win by less.  Decreasing N1 proportionally adds weight to N2, which \n",
    "# helps make this change a bit more dramatic, but it still isn't a lot\n",
    "lmsynth(m1scaledDownRow0_01, alts)"
   ]
  },
  {
   "cell_type": "markdown",
   "metadata": {},
   "source": [
    "## Same as before, but removing N3->N1 connection"
   ]
  },
  {
   "cell_type": "markdown",
   "metadata": {},
   "source": [
    "* Since $N3 \\to N1$ connection is gone, that influence of N1 making A1 lose is lessened"
   ]
  },
  {
   "cell_type": "code",
   "execution_count": 9,
   "metadata": {},
   "outputs": [],
   "source": [
    "m1aunscaled = np.array([\n",
    "    [0.60, 0.20, 0.00/0.60, 0.20, 0.10],\n",
    "    [0.30, 0.20, 0.35/0.60, 0.30, 0.30],\n",
    "    [0.10, 0.60, 0.25/0.60, 0.50, 0.60],\n",
    "    [0.20, 0.90, 0.40,      0.30, 0.25],\n",
    "    [0.80, 0.10, 0.60,      0.70, 0.75]\n",
    "])\n",
    "m1acluster = np.array([\n",
    "    [0.8, 0.6],\n",
    "    [0.2, 0.4]\n",
    "])\n",
    "m1ascaled = scale_mat(m1aunscaled, m1acluster, [3,2])"
   ]
  },
  {
   "cell_type": "code",
   "execution_count": 10,
   "metadata": {},
   "outputs": [
    {
     "data": {
      "text/plain": [
       "array([0.44042339, 0.55957661])"
      ]
     },
     "execution_count": 10,
     "metadata": {},
     "output_type": "execute_result"
    }
   ],
   "source": [
    "lmsynth(m1ascaled,alts)"
   ]
  },
  {
   "cell_type": "code",
   "execution_count": 11,
   "metadata": {},
   "outputs": [
    {
     "data": {
      "text/plain": [
       "array([[0.24      , 0.08      , 0.        , 0.06      , 0.03      ],\n",
       "       [0.62      , 0.58      , 0.73333333, 0.59      , 0.59      ],\n",
       "       [0.04      , 0.24      , 0.16666667, 0.15      , 0.18      ],\n",
       "       [0.02      , 0.09      , 0.04      , 0.06      , 0.05      ],\n",
       "       [0.08      , 0.01      , 0.06      , 0.14      , 0.15      ]])"
      ]
     },
     "metadata": {},
     "output_type": "display_data"
    },
    {
     "data": {
      "text/plain": [
       "array([[0.096     , 0.032     , 0.        , 0.024     , 0.012     ],\n",
       "       [0.41723077, 0.18438095, 0.46666667, 0.19963636, 0.18919149],\n",
       "       [0.13907692, 0.55314286, 0.33333333, 0.33272727, 0.37838298],\n",
       "       [0.06953846, 0.20742857, 0.08      , 0.13309091, 0.10510638],\n",
       "       [0.27815385, 0.02304762, 0.12      , 0.31054545, 0.31531915]])"
      ]
     },
     "metadata": {},
     "output_type": "display_data"
    }
   ],
   "source": [
    "m1ascaledUpRow1_075=rowsens.row_adjust(m1ascaled, 1, 0.75, p0mode=0.5)\n",
    "m1ascaledDownRow0_01=rowsens.row_adjust(m1ascaled, 0, 0.1, p0mode=0.5)\n",
    "display(m1ascaledUpRow1_075)\n",
    "display(m1ascaledDownRow0_01)"
   ]
  },
  {
   "cell_type": "code",
   "execution_count": 12,
   "metadata": {},
   "outputs": [
    {
     "data": {
      "text/plain": [
       "array([0.64018781, 0.35981219])"
      ]
     },
     "execution_count": 12,
     "metadata": {},
     "output_type": "execute_result"
    }
   ],
   "source": [
    "lmsynth(m1ascaledUpRow1_075, alts)"
   ]
  },
  {
   "cell_type": "code",
   "execution_count": 13,
   "metadata": {},
   "outputs": [
    {
     "data": {
      "text/plain": [
       "array([0.46917138, 0.53082862])"
      ]
     },
     "execution_count": 13,
     "metadata": {},
     "output_type": "execute_result"
    }
   ],
   "source": [
    "lmsynth(m1ascaledDownRow0_01, alts)"
   ]
  },
  {
   "cell_type": "markdown",
   "metadata": {},
   "source": [
    "## Same except $N3\\to N1$ and $N1\\to N1$ connections removed"
   ]
  },
  {
   "cell_type": "markdown",
   "metadata": {},
   "source": [
    "* Since 2 connections to N1 have disappeared, this makes N2 more important, and lessens the victory of N1 in the network"
   ]
  },
  {
   "cell_type": "code",
   "execution_count": 14,
   "metadata": {},
   "outputs": [],
   "source": [
    "m1bunscaled = np.array([\n",
    "    [0.00/0.40, 0.20, 0.00/0.60, 0.20, 0.10],\n",
    "    [0.30/0.40, 0.20, 0.35/0.60, 0.30, 0.30],\n",
    "    [0.10/0.40, 0.60, 0.25/0.60, 0.50, 0.60],\n",
    "    [0.20, 0.90,      0.40,      0.30, 0.25],\n",
    "    [0.80, 0.10,      0.60,      0.70, 0.75]\n",
    "])\n",
    "m1bcluster = np.array([\n",
    "    [0.8, 0.6],\n",
    "    [0.2, 0.4]\n",
    "])\n",
    "m1bscaled = scale_mat(m1bunscaled, m1bcluster, [3,2])"
   ]
  },
  {
   "cell_type": "code",
   "execution_count": 15,
   "metadata": {},
   "outputs": [
    {
     "data": {
      "text/plain": [
       "array([0.46163436, 0.53836564])"
      ]
     },
     "execution_count": 15,
     "metadata": {},
     "output_type": "execute_result"
    }
   ],
   "source": [
    "lmsynth(m1bscaled,alts)"
   ]
  },
  {
   "cell_type": "code",
   "execution_count": 16,
   "metadata": {},
   "outputs": [
    {
     "data": {
      "text/plain": [
       "array([[0.        , 0.08      , 0.        , 0.06      , 0.03      ],\n",
       "       [0.8       , 0.58      , 0.73333333, 0.59      , 0.59      ],\n",
       "       [0.1       , 0.24      , 0.16666667, 0.15      , 0.18      ],\n",
       "       [0.02      , 0.09      , 0.04      , 0.06      , 0.05      ],\n",
       "       [0.08      , 0.01      , 0.06      , 0.14      , 0.15      ]])"
      ]
     },
     "metadata": {},
     "output_type": "display_data"
    },
    {
     "data": {
      "text/plain": [
       "array([[0.        , 0.032     , 0.        , 0.024     , 0.012     ],\n",
       "       [0.6       , 0.18438095, 0.46666667, 0.19963636, 0.18919149],\n",
       "       [0.2       , 0.55314286, 0.33333333, 0.33272727, 0.37838298],\n",
       "       [0.04      , 0.20742857, 0.08      , 0.13309091, 0.10510638],\n",
       "       [0.16      , 0.02304762, 0.12      , 0.31054545, 0.31531915]])"
      ]
     },
     "metadata": {},
     "output_type": "display_data"
    }
   ],
   "source": [
    "m1bscaledUpRow1_075=rowsens.row_adjust(m1bscaled, 1, 0.75, p0mode=0.5)\n",
    "m1bscaledDownRow0_01=rowsens.row_adjust(m1bscaled, 0, 0.1, p0mode=0.5)\n",
    "display(m1bscaledUpRow1_075)\n",
    "display(m1bscaledDownRow0_01)"
   ]
  },
  {
   "cell_type": "code",
   "execution_count": 17,
   "metadata": {},
   "outputs": [
    {
     "data": {
      "text/plain": [
       "array([0.64784354, 0.35215646])"
      ]
     },
     "execution_count": 17,
     "metadata": {},
     "output_type": "execute_result"
    }
   ],
   "source": [
    "lmsynth(m1bscaledUpRow1_075, alts)"
   ]
  },
  {
   "cell_type": "code",
   "execution_count": 18,
   "metadata": {},
   "outputs": [
    {
     "data": {
      "text/plain": [
       "array([0.47374771, 0.52625229])"
      ]
     },
     "execution_count": 18,
     "metadata": {},
     "output_type": "execute_result"
    }
   ],
   "source": [
    "lmsynth(m1bscaledDownRow0_01, alts)"
   ]
  },
  {
   "cell_type": "markdown",
   "metadata": {},
   "source": [
    "# Calculations for workshop"
   ]
  },
  {
   "cell_type": "markdown",
   "metadata": {},
   "source": [
    "## This section has the matrices I copied into the presentation at each step"
   ]
  },
  {
   "cell_type": "markdown",
   "metadata": {},
   "source": [
    "### Scaling down"
   ]
  },
  {
   "cell_type": "markdown",
   "metadata": {},
   "source": [
    "$$\\begin{bmatrix}\n",
    "0.48 & 0.16 & 0.32 &0.12 &0.06 \\\\\n",
    "0.24 &0.16 &0.28 &0.18 &0.18 \\\\\n",
    "0.08 &0.48 &0.2 & 0.3 & 0.36 \\\\\n",
    "0.04 & 0.18 & 0.08 & 0.12 & 0.1 \\\\\n",
    "0.16 & 0.02 & 0.12 & 0.28 &0.3 \n",
    "\\end{bmatrix}$$"
   ]
  },
  {
   "cell_type": "markdown",
   "metadata": {},
   "source": [
    "$$\\begin{bmatrix}\n",
    "0.48 & 0.16 & 0.32 &0.12 &0.06 \\\\\n",
    "1/2\\cdot 0.24 &1/2\\cdot 0.16 &1/2\\cdot 0.28 &1/2\\cdot 0.18 &1/2\\cdot 0.18 \\\\\n",
    "0.08 &0.48 &0.2 & 0.3 & 0.36 \\\\\n",
    "0.04 & 0.18 & 0.08 & 0.12 & 0.1 \\\\\n",
    "0.16 & 0.02 & 0.12 & 0.28 &0.3 \n",
    "\\end{bmatrix}$$"
   ]
  },
  {
   "cell_type": "markdown",
   "metadata": {},
   "source": [
    "$$\\begin{bmatrix}\n",
    "0.48 & 0.16 & 0.32 &0.12 &0.06 \\\\\n",
    "0.12 & 0.08 & 0.14 & 0.09 &0.09 \\\\\n",
    "0.08 &0.48 &0.2 & 0.3 & 0.36 \\\\\n",
    "0.04 & 0.18 & 0.08 & 0.12 & 0.1 \\\\\n",
    "0.16 & 0.02 & 0.12 & 0.28 &0.3 \n",
    "\\end{bmatrix}$$"
   ]
  },
  {
   "cell_type": "markdown",
   "metadata": {},
   "source": [
    "$$\\begin{bmatrix}\n",
    "0.88/0.76 \\cdot 0.48 & 0.16 & 0.32 &0.12 &0.06 \\\\\n",
    "0.12 & 0.08 & 0.14 & 0.09 &0.09 \\\\\n",
    "0.88/0.76 \\cdot 0.08 &0.48 &0.2 & 0.3 & 0.36 \\\\\n",
    "0.88/0.76 \\cdot 0.04 & 0.18 & 0.08 & 0.12 & 0.1 \\\\\n",
    "0.88/0.76 \\cdot 0.16 & 0.02 & 0.12 & 0.28 &0.3 \n",
    "\\end{bmatrix}$$"
   ]
  },
  {
   "cell_type": "markdown",
   "metadata": {},
   "source": [
    "$$\\begin{bmatrix}\n",
    "0.5558& 0.16 & 0.32 &0.12 &0.06 \\\\\n",
    "0.12 & 0.08 & 0.14 & 0.09 &0.09 \\\\\n",
    "0.0926 &0.48 &0.2 & 0.3 & 0.36 \\\\\n",
    "0.0463 & 0.18 & 0.08 & 0.12 & 0.1 \\\\\n",
    "0.1853 & 0.02 & 0.12 & 0.28 &0.3 \n",
    "\\end{bmatrix}$$"
   ]
  },
  {
   "cell_type": "markdown",
   "metadata": {},
   "source": [
    "$$\\begin{bmatrix}\n",
    "0.5558& 0.92/0.84 \\cdot 0.16 & 0.32 &0.12 &0.06 \\\\\n",
    "0.12 & 0.08 & 0.14 & 0.09 &0.09 \\\\\n",
    "0.0926 &0.92/0.84 \\cdot 0.160.48 &0.2 & 0.3 & 0.36 \\\\\n",
    "0.0463 &0.92/0.84 \\cdot 0.16 0.18 & 0.08 & 0.12 & 0.1 \\\\\n",
    "0.1853 & 0.92/0.84 \\cdot 0.160.02 & 0.12 & 0.28 &0.3 \n",
    "\\end{bmatrix}$$"
   ]
  },
  {
   "cell_type": "markdown",
   "metadata": {},
   "source": [
    "$$\\begin{bmatrix}\n",
    "0.5558& 0.1752 & 0.32 &0.12 &0.06 \\\\\n",
    "0.12 & 0.08 & 0.14 & 0.09 &0.09 \\\\\n",
    "0.0926 &0.5257 &0.2 & 0.3 & 0.36 \\\\\n",
    "0.0463 & 0.9171 & 0.08 & 0.12 & 0.1 \\\\\n",
    "0.1853 & 0.0219 & 0.12 & 0.28 &0.3 \n",
    "\\end{bmatrix}$$"
   ]
  },
  {
   "cell_type": "markdown",
   "metadata": {},
   "source": [
    "$$\\begin{bmatrix}\n",
    "0.5558& 0.1752 & 0.92/0.84 \\cdot 0.32 &0.12 &0.06 \\\\\n",
    "0.12 & 0.08 &  0.14 & 0.09 &0.09 \\\\\n",
    "0.0926 &0.5257 & 0.92/0.84 \\cdot 0.2 & 0.3 & 0.36 \\\\\n",
    "0.0463 & 0.9171 &  0.92/0.84 \\cdot 0.08 & 0.12 & 0.1 \\\\\n",
    "0.1853 & 0.0219 & 0.92/0.84 \\cdot 0.12 & 0.28 &0.3 \n",
    "\\end{bmatrix}$$"
   ]
  },
  {
   "cell_type": "markdown",
   "metadata": {},
   "source": [
    "$$\\begin{bmatrix}\n",
    "0.5558& 0.1752 & 0.3822 &0.12 &0.06 \\\\\n",
    "0.12 & 0.08 & 0.14 & 0.09 &0.09 \\\\\n",
    "0.0926 &0.5257 &0.2389 & 0.3 & 0.36 \\\\\n",
    "0.0463 & 0.9171 & 0.0956 & 0.12 & 0.1 \\\\\n",
    "0.1853 & 0.0219 & 0.1433 & 0.28 &0.3 \n",
    "\\end{bmatrix}$$"
   ]
  },
  {
   "cell_type": "markdown",
   "metadata": {},
   "source": [
    "$$\\begin{bmatrix}\n",
    "0.5558& 0.1752 & 0.3822 & 0.91/0.82 \\cdot 0.12 &0.06 \\\\\n",
    "0.12 & 0.08 & 0.14 & 0.09 &0.09 \\\\\n",
    "0.0926 &0.5257 &0.2389 & 0.91/0.82 \\cdot 0.3 & 0.36 \\\\\n",
    "0.0463 & 0.9171 & 0.0956 & 0.91/0.82 \\cdot 0.12 & 0.1 \\\\\n",
    "0.1853 & 0.0219 & 0.1433 & 0.91/0.82 \\cdot 0.28 &0.3 \n",
    "\\end{bmatrix}$$"
   ]
  },
  {
   "cell_type": "markdown",
   "metadata": {},
   "source": [
    "$$\\begin{bmatrix}\n",
    "0.5558& 0.1752 & 0.32 &0.1332 &0.06 \\\\\n",
    "0.12 & 0.08 & 0.14 & 0.09 &0.09 \\\\\n",
    "0.0926 &0.5257 &0.2 & 0.3329 & 0.36 \\\\\n",
    "0.0463 & 0.9171 & 0.08 & 0.1332 & 0.1 \\\\\n",
    "0.1853 & 0.0219 & 0.12 & 0.3107 &0.3 \n",
    "\\end{bmatrix}$$"
   ]
  },
  {
   "cell_type": "markdown",
   "metadata": {},
   "source": [
    "$$\\begin{bmatrix}\n",
    "0.5558& 0.1752 & 0.32 &0.1332 &0.91/0.82 \\cdot 0.06 \\\\\n",
    "0.12 & 0.08 & 0.14 & 0.09 &0.09 \\\\\n",
    "0.0926 &0.5257 &0.2 & 0.3329 & 0.91/0.82 \\cdot 0.36 \\\\\n",
    "0.0463 & 0.9171 & 0.08 & 0.1332 & 0.91/0.82 \\cdot 0.1 \\\\\n",
    "0.1853 & 0.0219 & 0.12 & 0.3107 &0.91/0.82 \\cdot 0.3 \n",
    "\\end{bmatrix}$$"
   ]
  },
  {
   "cell_type": "markdown",
   "metadata": {},
   "source": [
    "$$\\begin{bmatrix}\n",
    "0.5558& 0.1752 & 0.32 &0.1332 &0.0666 \\\\\n",
    "0.12 & 0.08 & 0.14 & 0.09 &0.09 \\\\\n",
    "0.0926 &0.5257 &0.2 & 0.3329 & 0.3995 \\\\\n",
    "0.0463 & 0.9171 & 0.08 & 0.1332 & 0.1110 \\\\\n",
    "0.1853 & 0.0219 & 0.12 & 0.3107 &0.3329 \n",
    "\\end{bmatrix}$$"
   ]
  },
  {
   "cell_type": "code",
   "execution_count": 19,
   "metadata": {},
   "outputs": [
    {
     "name": "stdout",
     "output_type": "stream",
     "text": [
      "[[0.5558 0.1752 0.3822 0.1332 0.0666]\n",
      " [0.12   0.08   0.14   0.09   0.09  ]\n",
      " [0.0926 0.5257 0.2389 0.3329 0.3995]\n",
      " [0.0463 0.1971 0.0956 0.1332 0.111 ]\n",
      " [0.1853 0.0219 0.1433 0.3107 0.3329]]\n",
      "[[0.48 0.16 0.32 0.12 0.06]\n",
      " [0.24 0.16 0.28 0.18 0.18]\n",
      " [0.08 0.48 0.2  0.3  0.36]\n",
      " [0.04 0.18 0.08 0.12 0.1 ]\n",
      " [0.16 0.02 0.12 0.28 0.3 ]]\n"
     ]
    }
   ],
   "source": [
    "np.set_printoptions(precision=4)\n",
    "print(m1scaledDownRow1_025)\n",
    "print(m1scaled)"
   ]
  },
  {
   "cell_type": "code",
   "execution_count": 20,
   "metadata": {},
   "outputs": [
    {
     "data": {
      "text/plain": [
       "array([1., 1., 1., 1., 1.])"
      ]
     },
     "execution_count": 20,
     "metadata": {},
     "output_type": "execute_result"
    }
   ],
   "source": [
    "m1scaledDownRow1_025.sum(axis=0)"
   ]
  },
  {
   "cell_type": "markdown",
   "metadata": {},
   "source": [
    "### Attempting to scale upward incorrectly"
   ]
  },
  {
   "cell_type": "markdown",
   "metadata": {},
   "source": [
    "$$\\begin{bmatrix}\n",
    "0.48 & 0.16 & 0.32 &0.12 &0.06 \\\\\n",
    "0.8571& 0.5714 & 1.    & 0.6429 & 0.6429 \\\\\n",
    "0.08 &0.48 &0.2 & 0.3 & 0.36 \\\\\n",
    "0.04 & 0.18 & 0.08 & 0.12 & 0.1 \\\\\n",
    "0.16 & 0.02 & 0.12 & 0.28 &0.3 \n",
    "\\end{bmatrix}$$"
   ]
  },
  {
   "cell_type": "markdown",
   "metadata": {},
   "source": [
    "### Now scaling upward correctly"
   ]
  },
  {
   "cell_type": "markdown",
   "metadata": {},
   "source": [
    "$$\\begin{bmatrix}\n",
    "0.48 & 0.16 & 0.32 &0.12 &0.06 \\\\\n",
    "0.62 & 0.58 & 0.64 & 0.59 & 0.59 \\\\\n",
    "0.08 &0.48 &0.2 & 0.3 & 0.36 \\\\\n",
    "0.04 & 0.18 & 0.08 & 0.12 & 0.1 \\\\\n",
    "0.16 & 0.02 & 0.12 & 0.28 &0.3 \n",
    "\\end{bmatrix}$$"
   ]
  },
  {
   "attachments": {},
   "cell_type": "markdown",
   "metadata": {},
   "source": [
    "$$\\begin{bmatrix}\n",
    "0.24 & 0.08 & 0.16 &0.06 &0.03 \\\\\n",
    "0.62 & 0.58 & 0.64 & 0.59 & 0.59 \\\\\n",
    "0.04 &0.24 &0.1 & 0.15 & 0.18 \\\\\n",
    "0.02 & 0.09 & 0.04 & 0.06 & 0.05 \\\\\n",
    "0.08 & 0.01 & 0.06 & 0.14 &0.15 \n",
    "\\end{bmatrix}$$"
   ]
  },
  {
   "cell_type": "markdown",
   "metadata": {},
   "source": [
    "Limit matrix of the original matrix\n",
    "$$\\begin{bmatrix}\n",
    "0.269 & 0.269 & 0.269 & 0.269 & 0.269\\\\ \n",
    "0.2181& 0.2181 &0.2181 &0.2181 &0.2181\\\\\n",
    "0.2629& 0.2629 &0.2629 &0.2629 &0.2629\\\\\n",
    "0.098 & 0.098  &0.098  &0.098  &0.098 \\\\\n",
    "0.152 & 0.152  &0.152  &0.152  &0.152 \n",
    "\\end{bmatrix}$$"
   ]
  },
  {
   "cell_type": "markdown",
   "metadata": {},
   "source": [
    "Limit after scaling down row 2 to p=1/4 with p0=1/2:\n",
    "\n",
    "$$\\begin{bmatrix}\n",
    "0.3298 &0.3298 &0.3298 &0.3298 &0.3298\\\\\n",
    "0.112  &0.112  &0.112  &0.112  &0.112 \\\\\n",
    "0.2636 &0.2636 &0.2636 &0.2636 &0.2636\\\\\n",
    "0.0974 &0.0974 &0.0974 &0.0974 &0.0974\\\\\n",
    "0.1973 &0.1973 &0.1973 &0.1973 &0.1973\n",
    "\\end{bmatrix}$$"
   ]
  },
  {
   "cell_type": "markdown",
   "metadata": {},
   "source": [
    "Limit after scaling up row 2 to p=3/4 with p0=1/2:\n",
    "$$\\begin{bmatrix}\n",
    "0.1086 &0.1086 &0.1086 &0.1086 &0.1086\\\\\n",
    "0.5965 &0.5965 &0.5965 &0.5965 &0.5965\\\\\n",
    "0.1838 &0.1838 &0.1838 &0.1838 &0.1838\\\\\n",
    "0.0695 &0.0695 &0.0695 &0.0695 &0.0695\\\\\n",
    "0.0417 &0.0417 &0.0417 &0.0417 &0.0417\n",
    "\\end{bmatrix}$$"
   ]
  },
  {
   "cell_type": "markdown",
   "metadata": {},
   "source": [
    "# Sensitivity calcs"
   ]
  },
  {
   "cell_type": "code",
   "execution_count": 22,
   "metadata": {},
   "outputs": [
    {
     "data": {
      "image/png": "[encoded data removed]",
      "text/plain": [
       "<Figure size 432x288 with 1 Axes>"
      ]
     },
     "metadata": {
      "needs_background": "light"
     },
     "output_type": "display_data"
    }
   ],
   "source": [
    "rowsens.influence_table(m1scaled, 1, p0mode=0.5)"
   ]
  },
  {
   "cell_type": "code",
   "execution_count": 23,
   "metadata": {},
   "outputs": [
    {
     "data": {
      "text/plain": [
       "0   -0.022804\n",
       "2    0.037462\n",
       "3    0.015054\n",
       "4   -0.029711\n",
       "dtype: float64"
      ]
     },
     "execution_count": 23,
     "metadata": {},
     "output_type": "execute_result"
    }
   ],
   "source": [
    "rowsens.influence_fixed(m1scaled, 1, p0mode=0.5, delta=0.1)"
   ]
  },
  {
   "cell_type": "code",
   "execution_count": 24,
   "metadata": {},
   "outputs": [
    {
     "data": {
      "text/plain": [
       "0   -0.730963\n",
       "1    1.478213\n",
       "2   -0.122250\n",
       "3   -0.032094\n",
       "4   -0.592906\n",
       "dtype: float64"
      ]
     },
     "execution_count": 24,
     "metadata": {},
     "output_type": "execute_result"
    }
   ],
   "source": [
    "rowsens.influence_marginal(m1scaled, 1, left_or_right=1)"
   ]
  },
  {
   "cell_type": "code",
   "execution_count": 25,
   "metadata": {},
   "outputs": [
    {
     "data": {
      "text/plain": [
       "(Node 0    0.190477\n",
       " Node 2    0.336213\n",
       " Node 3    0.125338\n",
       " Node 4    0.194383\n",
       " dtype: float64,\n",
       " Node 0    0.5\n",
       " Node 2    0.5\n",
       " Node 3    0.5\n",
       " Node 4    0.5\n",
       " dtype: float64)"
      ]
     },
     "execution_count": 25,
     "metadata": {},
     "output_type": "execute_result"
    }
   ],
   "source": [
    "rowsens.influence_limit(m1scaled, 1, p0mode=0.5)"
   ]
  },
  {
   "cell_type": "code",
   "execution_count": 26,
   "metadata": {},
   "outputs": [
    {
     "name": "stdout",
     "output_type": "stream",
     "text": [
      "Original priorities were: [0.392 0.608]\n",
      "p=0.5 new_scores: [0.392 0.608]\n",
      "p=0.501 new_scores: [0.3929 0.6071]\n",
      "p=0.51 new_scores: [0.4006 0.5994]\n",
      "p=0.55 new_scores: [0.4354 0.5646]\n",
      "p=0.6 new_scores: [0.4804 0.5196]\n",
      "p=0.75 new_scores: [0.6251 0.3749]\n",
      "p=0.8 new_scores: [0.6767 0.3233]\n",
      "p=0.9 new_scores: [0.7848 0.2152]\n",
      "p=0.95 new_scores: [0.8415 0.1585]\n",
      "p=0.99 new_scores: [0.8882 0.1118]\n",
      "p=0.999 new_scores: [0.8988 0.1012]\n"
     ]
    }
   ],
   "source": [
    "# Let's look at the limit priority\n",
    "original = lmsynth(m1scaled, alts)\n",
    "print(\"Original priorities were: \"+str(original))\n",
    "for val in [0.5, 0.501, 0.51, 0.55, 0.6, 0.75, 0.8, 0.9, 0.95, 0.99, 0.999]:\n",
    "    npris = influence_priority(m1scaled, 1, val, alts, p0mode=0.5)\n",
    "    print(\"p=\"+str(val)+\" new_scores: \"+str(npris))"
   ]
  },
  {
   "cell_type": "code",
   "execution_count": 34,
   "metadata": {},
   "outputs": [
    {
     "data": {
      "text/html": [
       "<h2>Node 0</h2>"
      ],
      "text/plain": [
       "<IPython.core.display.HTML object>"
      ]
     },
     "metadata": {},
     "output_type": "display_data"
    },
    {
     "data": {
      "text/html": [
       "<div>\n",
       "<style scoped>\n",
       "    .dataframe tbody tr th:only-of-type {\n",
       "        vertical-align: middle;\n",
       "    }\n",
       "\n",
       "    .dataframe tbody tr th {\n",
       "        vertical-align: top;\n",
       "    }\n",
       "\n",
       "    .dataframe thead th {\n",
       "        text-align: right;\n",
       "    }\n",
       "</style>\n",
       "<table border=\"1\" class=\"dataframe\">\n",
       "  <thead>\n",
       "    <tr style=\"text-align: right;\">\n",
       "      <th></th>\n",
       "      <th>Left</th>\n",
       "      <th>Right</th>\n",
       "    </tr>\n",
       "  </thead>\n",
       "  <tbody>\n",
       "    <tr>\n",
       "      <th>0</th>\n",
       "      <td>1.363634</td>\n",
       "      <td>1.986966</td>\n",
       "    </tr>\n",
       "    <tr>\n",
       "      <th>1</th>\n",
       "      <td>-0.299029</td>\n",
       "      <td>-0.404571</td>\n",
       "    </tr>\n",
       "    <tr>\n",
       "      <th>2</th>\n",
       "      <td>-0.637174</td>\n",
       "      <td>-0.957396</td>\n",
       "    </tr>\n",
       "    <tr>\n",
       "      <th>3</th>\n",
       "      <td>-0.225392</td>\n",
       "      <td>-0.335150</td>\n",
       "    </tr>\n",
       "    <tr>\n",
       "      <th>4</th>\n",
       "      <td>-0.202039</td>\n",
       "      <td>-0.289850</td>\n",
       "    </tr>\n",
       "    <tr>\n",
       "      <th>Total</th>\n",
       "      <td>1.564138</td>\n",
       "      <td>2.285751</td>\n",
       "    </tr>\n",
       "  </tbody>\n",
       "</table>\n",
       "</div>"
      ],
      "text/plain": [
       "           Left     Right\n",
       "0      1.363634  1.986966\n",
       "1     -0.299029 -0.404571\n",
       "2     -0.637174 -0.957396\n",
       "3     -0.225392 -0.335150\n",
       "4     -0.202039 -0.289850\n",
       "Total  1.564138  2.285751"
      ]
     },
     "metadata": {},
     "output_type": "display_data"
    },
    {
     "data": {
      "text/html": [
       "<h2>Node 1</h2>"
      ],
      "text/plain": [
       "<IPython.core.display.HTML object>"
      ]
     },
     "metadata": {},
     "output_type": "display_data"
    },
    {
     "data": {
      "text/html": [
       "<div>\n",
       "<style scoped>\n",
       "    .dataframe tbody tr th:only-of-type {\n",
       "        vertical-align: middle;\n",
       "    }\n",
       "\n",
       "    .dataframe tbody tr th {\n",
       "        vertical-align: top;\n",
       "    }\n",
       "\n",
       "    .dataframe thead th {\n",
       "        text-align: right;\n",
       "    }\n",
       "</style>\n",
       "<table border=\"1\" class=\"dataframe\">\n",
       "  <thead>\n",
       "    <tr style=\"text-align: right;\">\n",
       "      <th></th>\n",
       "      <th>Left</th>\n",
       "      <th>Right</th>\n",
       "    </tr>\n",
       "  </thead>\n",
       "  <tbody>\n",
       "    <tr>\n",
       "      <th>0</th>\n",
       "      <td>-0.479561</td>\n",
       "      <td>-0.730963</td>\n",
       "    </tr>\n",
       "    <tr>\n",
       "      <th>1</th>\n",
       "      <td>0.945442</td>\n",
       "      <td>1.478213</td>\n",
       "    </tr>\n",
       "    <tr>\n",
       "      <th>2</th>\n",
       "      <td>-0.068759</td>\n",
       "      <td>-0.122250</td>\n",
       "    </tr>\n",
       "    <tr>\n",
       "      <th>3</th>\n",
       "      <td>-0.017545</td>\n",
       "      <td>-0.032094</td>\n",
       "    </tr>\n",
       "    <tr>\n",
       "      <th>4</th>\n",
       "      <td>-0.379577</td>\n",
       "      <td>-0.592906</td>\n",
       "    </tr>\n",
       "    <tr>\n",
       "      <th>Total</th>\n",
       "      <td>1.128252</td>\n",
       "      <td>1.756967</td>\n",
       "    </tr>\n",
       "  </tbody>\n",
       "</table>\n",
       "</div>"
      ],
      "text/plain": [
       "           Left     Right\n",
       "0     -0.479561 -0.730963\n",
       "1      0.945442  1.478213\n",
       "2     -0.068759 -0.122250\n",
       "3     -0.017545 -0.032094\n",
       "4     -0.379577 -0.592906\n",
       "Total  1.128252  1.756967"
      ]
     },
     "metadata": {},
     "output_type": "display_data"
    },
    {
     "data": {
      "text/html": [
       "<h2>Node 2</h2>"
      ],
      "text/plain": [
       "<IPython.core.display.HTML object>"
      ]
     },
     "metadata": {},
     "output_type": "display_data"
    },
    {
     "data": {
      "text/html": [
       "<div>\n",
       "<style scoped>\n",
       "    .dataframe tbody tr th:only-of-type {\n",
       "        vertical-align: middle;\n",
       "    }\n",
       "\n",
       "    .dataframe tbody tr th {\n",
       "        vertical-align: top;\n",
       "    }\n",
       "\n",
       "    .dataframe thead th {\n",
       "        text-align: right;\n",
       "    }\n",
       "</style>\n",
       "<table border=\"1\" class=\"dataframe\">\n",
       "  <thead>\n",
       "    <tr style=\"text-align: right;\">\n",
       "      <th></th>\n",
       "      <th>Left</th>\n",
       "      <th>Right</th>\n",
       "    </tr>\n",
       "  </thead>\n",
       "  <tbody>\n",
       "    <tr>\n",
       "      <th>0</th>\n",
       "      <td>-0.241685</td>\n",
       "      <td>-0.402652</td>\n",
       "    </tr>\n",
       "    <tr>\n",
       "      <th>1</th>\n",
       "      <td>-0.216689</td>\n",
       "      <td>-0.319227</td>\n",
       "    </tr>\n",
       "    <tr>\n",
       "      <th>2</th>\n",
       "      <td>0.907227</td>\n",
       "      <td>1.346879</td>\n",
       "    </tr>\n",
       "    <tr>\n",
       "      <th>3</th>\n",
       "      <td>-0.178573</td>\n",
       "      <td>-0.228906</td>\n",
       "    </tr>\n",
       "    <tr>\n",
       "      <th>4</th>\n",
       "      <td>-0.270280</td>\n",
       "      <td>-0.396093</td>\n",
       "    </tr>\n",
       "    <tr>\n",
       "      <th>Total</th>\n",
       "      <td>1.016547</td>\n",
       "      <td>1.512417</td>\n",
       "    </tr>\n",
       "  </tbody>\n",
       "</table>\n",
       "</div>"
      ],
      "text/plain": [
       "           Left     Right\n",
       "0     -0.241685 -0.402652\n",
       "1     -0.216689 -0.319227\n",
       "2      0.907227  1.346879\n",
       "3     -0.178573 -0.228906\n",
       "4     -0.270280 -0.396093\n",
       "Total  1.016547  1.512417"
      ]
     },
     "metadata": {},
     "output_type": "display_data"
    }
   ],
   "source": [
    "for node in [0,1,2]:\n",
    "    infl_right = rowsens.influence_marginal(m1scaled, node, left_or_right=1)\n",
    "    infl_left = rowsens.influence_marginal(m1scaled, node, left_or_right=0)\n",
    "    display(HTML(\"<h2>Node \"+str(node)+\"</h2>\"))\n",
    "    df = pd.DataFrame({\"Left\":infl_left, \"Right\":infl_right})\n",
    "    new_index = len(df)\n",
    "    df.loc[len(df)] = [np.linalg.norm(infl_left), np.linalg.norm(infl_right)]\n",
    "    df.rename(index={5:\"Total\"}, inplace=True)\n",
    "    display(df)"
   ]
  },
  {
   "cell_type": "code",
   "execution_count": 35,
   "metadata": {},
   "outputs": [
    {
     "data": {
      "text/html": [
       "<h2>Node 0</h2>"
      ],
      "text/plain": [
       "<IPython.core.display.HTML object>"
      ]
     },
     "metadata": {},
     "output_type": "display_data"
    },
    {
     "data": {
      "text/html": [
       "<div>\n",
       "<style scoped>\n",
       "    .dataframe tbody tr th:only-of-type {\n",
       "        vertical-align: middle;\n",
       "    }\n",
       "\n",
       "    .dataframe tbody tr th {\n",
       "        vertical-align: top;\n",
       "    }\n",
       "\n",
       "    .dataframe thead th {\n",
       "        text-align: right;\n",
       "    }\n",
       "</style>\n",
       "<table border=\"1\" class=\"dataframe\">\n",
       "  <thead>\n",
       "    <tr style=\"text-align: right;\">\n",
       "      <th></th>\n",
       "      <th>0.50</th>\n",
       "      <th>0.75</th>\n",
       "      <th>0.90</th>\n",
       "    </tr>\n",
       "  </thead>\n",
       "  <tbody>\n",
       "    <tr>\n",
       "      <th>0</th>\n",
       "      <td>0.392023</td>\n",
       "      <td>-0.092555</td>\n",
       "      <td>-0.151202</td>\n",
       "    </tr>\n",
       "    <tr>\n",
       "      <th>1</th>\n",
       "      <td>0.607977</td>\n",
       "      <td>0.092555</td>\n",
       "      <td>0.151202</td>\n",
       "    </tr>\n",
       "    <tr>\n",
       "      <th>Total</th>\n",
       "      <td>0.000000</td>\n",
       "      <td>0.130892</td>\n",
       "      <td>0.213832</td>\n",
       "    </tr>\n",
       "  </tbody>\n",
       "</table>\n",
       "</div>"
      ],
      "text/plain": [
       "           0.50      0.75      0.90\n",
       "0      0.392023 -0.092555 -0.151202\n",
       "1      0.607977  0.092555  0.151202\n",
       "Total  0.000000  0.130892  0.213832"
      ]
     },
     "metadata": {},
     "output_type": "display_data"
    },
    {
     "data": {
      "text/html": [
       "<h2>Node 1</h2>"
      ],
      "text/plain": [
       "<IPython.core.display.HTML object>"
      ]
     },
     "metadata": {},
     "output_type": "display_data"
    },
    {
     "data": {
      "text/html": [
       "<div>\n",
       "<style scoped>\n",
       "    .dataframe tbody tr th:only-of-type {\n",
       "        vertical-align: middle;\n",
       "    }\n",
       "\n",
       "    .dataframe tbody tr th {\n",
       "        vertical-align: top;\n",
       "    }\n",
       "\n",
       "    .dataframe thead th {\n",
       "        text-align: right;\n",
       "    }\n",
       "</style>\n",
       "<table border=\"1\" class=\"dataframe\">\n",
       "  <thead>\n",
       "    <tr style=\"text-align: right;\">\n",
       "      <th></th>\n",
       "      <th>0.50</th>\n",
       "      <th>0.75</th>\n",
       "      <th>0.90</th>\n",
       "    </tr>\n",
       "  </thead>\n",
       "  <tbody>\n",
       "    <tr>\n",
       "      <th>0</th>\n",
       "      <td>0.392023</td>\n",
       "      <td>0.233096</td>\n",
       "      <td>0.392795</td>\n",
       "    </tr>\n",
       "    <tr>\n",
       "      <th>1</th>\n",
       "      <td>0.607977</td>\n",
       "      <td>-0.233096</td>\n",
       "      <td>-0.392795</td>\n",
       "    </tr>\n",
       "    <tr>\n",
       "      <th>Total</th>\n",
       "      <td>0.000000</td>\n",
       "      <td>0.329647</td>\n",
       "      <td>0.555495</td>\n",
       "    </tr>\n",
       "  </tbody>\n",
       "</table>\n",
       "</div>"
      ],
      "text/plain": [
       "           0.50      0.75      0.90\n",
       "0      0.392023  0.233096  0.392795\n",
       "1      0.607977 -0.233096 -0.392795\n",
       "Total  0.000000  0.329647  0.555495"
      ]
     },
     "metadata": {},
     "output_type": "display_data"
    },
    {
     "data": {
      "text/html": [
       "<h2>Node 2</h2>"
      ],
      "text/plain": [
       "<IPython.core.display.HTML object>"
      ]
     },
     "metadata": {},
     "output_type": "display_data"
    },
    {
     "data": {
      "text/html": [
       "<div>\n",
       "<style scoped>\n",
       "    .dataframe tbody tr th:only-of-type {\n",
       "        vertical-align: middle;\n",
       "    }\n",
       "\n",
       "    .dataframe tbody tr th {\n",
       "        vertical-align: top;\n",
       "    }\n",
       "\n",
       "    .dataframe thead th {\n",
       "        text-align: right;\n",
       "    }\n",
       "</style>\n",
       "<table border=\"1\" class=\"dataframe\">\n",
       "  <thead>\n",
       "    <tr style=\"text-align: right;\">\n",
       "      <th></th>\n",
       "      <th>0.50</th>\n",
       "      <th>0.75</th>\n",
       "      <th>0.90</th>\n",
       "    </tr>\n",
       "  </thead>\n",
       "  <tbody>\n",
       "    <tr>\n",
       "      <th>0</th>\n",
       "      <td>0.392023</td>\n",
       "      <td>0.011019</td>\n",
       "      <td>0.01125</td>\n",
       "    </tr>\n",
       "    <tr>\n",
       "      <th>1</th>\n",
       "      <td>0.607977</td>\n",
       "      <td>-0.011019</td>\n",
       "      <td>-0.01125</td>\n",
       "    </tr>\n",
       "    <tr>\n",
       "      <th>Total</th>\n",
       "      <td>0.000000</td>\n",
       "      <td>0.015583</td>\n",
       "      <td>0.01591</td>\n",
       "    </tr>\n",
       "  </tbody>\n",
       "</table>\n",
       "</div>"
      ],
      "text/plain": [
       "           0.50      0.75     0.90\n",
       "0      0.392023  0.011019  0.01125\n",
       "1      0.607977 -0.011019 -0.01125\n",
       "Total  0.000000  0.015583  0.01591"
      ]
     },
     "metadata": {},
     "output_type": "display_data"
    }
   ],
   "source": [
    "for node in [0, 1, 2]:\n",
    "    infl_050 = influence_priority(m1scaled, node, 0.5, alts, p0mode=0.5)\n",
    "    infl_075 = influence_priority(m1scaled, node, 0.75, alts, p0mode=0.5)\n",
    "    diff075=infl_075-infl_050\n",
    "    infl_090 = influence_priority(m1scaled, node, 0.90, alts, p0mode=0.5)\n",
    "    diff090=infl_090-infl_050\n",
    "    display(HTML(\"<h2>Node \"+str(node)+\"</h2>\"))\n",
    "    df = pd.DataFrame({\"0.50\":infl_050, \"0.75\":diff075, \"0.90\":diff090})\n",
    "    new_index = len(df)\n",
    "    df.loc[len(df)] = [0, np.linalg.norm(diff075), np.linalg.norm(diff090)]\n",
    "    df.rename(index={new_index:\"Total\"}, inplace=True)\n",
    "    display(df)\n"
   ]
  },
  {
   "cell_type": "code",
   "execution_count": null,
   "metadata": {},
   "outputs": [],
   "source": []
  }
 ],
 "metadata": {
  "kernelspec": {
   "display_name": "Python 3",
   "language": "python",
   "name": "python3"
  },
  "language_info": {
   "codemirror_mode": {
    "name": "ipython",
    "version": 3
   },
   "file_extension": ".py",
   "mimetype": "text/x-python",
   "name": "python",
   "nbconvert_exporter": "python",
   "pygments_lexer": "ipython3",
   "version": "3.7.6"
  },
  "toc": {
   "base_numbering": 1,
   "nav_menu": {},
   "number_sections": true,
   "sideBar": true,
   "skip_h1_title": false,
   "title_cell": "Table of Contents",
   "title_sidebar": "Contents",
   "toc_cell": false,
   "toc_position": {},
   "toc_section_display": true,
   "toc_window_display": false
  }
 },
 "nbformat": 4,
 "nbformat_minor": 4
}

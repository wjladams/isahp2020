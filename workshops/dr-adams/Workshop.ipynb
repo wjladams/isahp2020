{
 "cells": [
  {
   "cell_type": "markdown",
   "metadata": {},
   "source": [
    "# Workshop notebook"
   ]
  },
  {
   "cell_type": "markdown",
   "metadata": {},
   "source": [
    "This Python+Jupyter notebook has example calculations useful for anyone who attended my ISAHP2020 workshop on ANP Row Sensitivity, and anyone else interested in the topic.\n",
    "\n",
    "My slideshow is available [on google slide](https://docs.google.com/presentation/d/1AK6TGB_45D-98Un3vMhOV-Fq5G4gftQbqbj1lMFMLtc/edit?usp=sharing)"
   ]
  },
  {
   "cell_type": "markdown",
   "metadata": {},
   "source": [
    "## Initial imports"
   ]
  },
  {
   "cell_type": "code",
   "execution_count": 1,
   "metadata": {},
   "outputs": [],
   "source": [
    "from pyanp import limitmatrix as lm\n",
    "from pyanp import anp as anp\n",
    "from pyanp import rowsens as rowsens\n",
    "import numpy as np\n",
    "import pandas as pd\n",
    "from IPython.display import Math, HTML\n",
    "#Import my custom functions also\n",
    "from isahp2020 import *\n",
    "# Let's only display 4 decimal places\n",
    "np.set_printoptions(precision=4)"
   ]
  },
  {
   "cell_type": "markdown",
   "metadata": {},
   "source": [
    "## Setup our model"
   ]
  },
  {
   "cell_type": "code",
   "execution_count": 2,
   "metadata": {},
   "outputs": [
    {
     "data": {
      "text/html": [
       "<h3>The supermatrix is:</h3>"
      ],
      "text/plain": [
       "<IPython.core.display.HTML object>"
      ]
     },
     "metadata": {},
     "output_type": "display_data"
    },
    {
     "data": {
      "text/plain": [
       "array([[0.48, 0.16, 0.32, 0.12, 0.06],\n",
       "       [0.24, 0.16, 0.28, 0.18, 0.18],\n",
       "       [0.08, 0.48, 0.2 , 0.3 , 0.36],\n",
       "       [0.04, 0.18, 0.08, 0.12, 0.1 ],\n",
       "       [0.16, 0.02, 0.12, 0.28, 0.3 ]])"
      ]
     },
     "metadata": {},
     "output_type": "display_data"
    },
    {
     "data": {
      "text/html": [
       "<h3>The limit matrix is:</h3>"
      ],
      "text/plain": [
       "<IPython.core.display.HTML object>"
      ]
     },
     "metadata": {},
     "output_type": "display_data"
    },
    {
     "data": {
      "text/plain": [
       "array([[0.269 , 0.269 , 0.269 , 0.269 , 0.269 ],\n",
       "       [0.2181, 0.2181, 0.2181, 0.2181, 0.2181],\n",
       "       [0.2629, 0.2629, 0.2629, 0.2629, 0.2629],\n",
       "       [0.098 , 0.098 , 0.098 , 0.098 , 0.098 ],\n",
       "       [0.152 , 0.152 , 0.152 , 0.152 , 0.152 ]])"
      ]
     },
     "metadata": {},
     "output_type": "display_data"
    },
    {
     "data": {
      "text/html": [
       "<h3>The resulting priority vector is:</h3>"
      ],
      "text/plain": [
       "<IPython.core.display.HTML object>"
      ]
     },
     "metadata": {},
     "output_type": "display_data"
    },
    {
     "data": {
      "text/plain": [
       "array([0.392, 0.608])"
      ]
     },
     "metadata": {},
     "output_type": "display_data"
    }
   ],
   "source": [
    "# The model consists of a model with 3 criteria, 2 alts, fully connected.\n",
    "# We give it in terms of the unscaled super matrix and the cluster matrix\n",
    "\n",
    "#What is the index of the alternatives, this is used in a lot of my isahp2020 function\n",
    "alts = [3,4]\n",
    "unscaled = np.array([\n",
    "    [0.60, 0.20, 0.40, 0.20, 0.10],\n",
    "    [0.30, 0.20, 0.35, 0.30, 0.30],\n",
    "    [0.10, 0.60, 0.25, 0.50, 0.60],\n",
    "    [0.20, 0.90, 0.40, 0.30, 0.25],\n",
    "    [0.80, 0.10, 0.60, 0.70, 0.75]\n",
    "])\n",
    "cluster = np.array([\n",
    "    [0.8, 0.6],\n",
    "    [0.2, 0.4]\n",
    "])\n",
    "scaled = scale_mat(unscaled, cluster, [3,2])\n",
    "limit = lm.calculus(scaled)\n",
    "alt_scores = lmsynth(scaled, alts)\n",
    "display(HTML(\"<h3>The supermatrix is:</h3>\"))\n",
    "display(scaled)\n",
    "display(HTML(\"<h3>The limit matrix is:</h3>\"))\n",
    "display(limit)\n",
    "display(HTML(\"<h3>The resulting priority vector is:</h3>\"))\n",
    "display(alt_scores)"
   ]
  },
  {
   "cell_type": "markdown",
   "metadata": {},
   "source": [
    "# Hand calculations of row sensitivity"
   ]
  },
  {
   "cell_type": "markdown",
   "metadata": {},
   "source": [
    "In this section we perform both calculations \"by hand\""
   ]
  },
  {
   "cell_type": "markdown",
   "metadata": {},
   "source": [
    "## Scale down, p=0.25 and p_0=0.5"
   ]
  },
  {
   "cell_type": "markdown",
   "metadata": {},
   "source": [
    "### A helper function"
   ]
  },
  {
   "cell_type": "code",
   "execution_count": 3,
   "metadata": {},
   "outputs": [],
   "source": [
    "def sens_rescale_column(original_mat, new_mat, sensitivity_row, column):\n",
    "    # Now column minus the entry in row 1\n",
    "    oldSum = sum(original_mat[:,column])-original_mat[sensitivity_row,column]\n",
    "    # And column 0 minus the new entry must add to 1-new_row_1_entry\n",
    "    newSum = 1-new_mat[sensitivity_row,column]\n",
    "    # Now we scale each entry except 0 by newSum/oldSum\n",
    "    for row in range(len(original_mat)):\n",
    "        if row != 1:\n",
    "            new_mat[row,column]=newSum/oldSum * original_mat[row,column]\n",
    "    #Let's see what we look now\n",
    "    display(HTML(\"<h3>After column \"+str(column+1)+\" scaled</h3>\"))\n",
    "    display(new_mat)"
   ]
  },
  {
   "cell_type": "markdown",
   "metadata": {},
   "source": [
    "### Now do the calculation:"
   ]
  },
  {
   "cell_type": "markdown",
   "metadata": {},
   "source": [
    "1. Scale down the row\n",
    "2. Rescale the rest of column 1\n",
    "2. Rescale the rest of column 2\n",
    "2. Rescale the rest of column 3\n",
    "2. Rescale the rest of column 4\n",
    "2. Rescale the rest of column 5\n"
   ]
  },
  {
   "cell_type": "code",
   "execution_count": 4,
   "metadata": {},
   "outputs": [
    {
     "data": {
      "text/html": [
       "<h3>Original matrix</h3>"
      ],
      "text/plain": [
       "<IPython.core.display.HTML object>"
      ]
     },
     "metadata": {},
     "output_type": "display_data"
    },
    {
     "data": {
      "text/plain": [
       "array([[0.48, 0.16, 0.32, 0.12, 0.06],\n",
       "       [0.24, 0.16, 0.28, 0.18, 0.18],\n",
       "       [0.08, 0.48, 0.2 , 0.3 , 0.36],\n",
       "       [0.04, 0.18, 0.08, 0.12, 0.1 ],\n",
       "       [0.16, 0.02, 0.12, 0.28, 0.3 ]])"
      ]
     },
     "metadata": {},
     "output_type": "display_data"
    },
    {
     "data": {
      "text/html": [
       "<h3>Row 1 scaled</h3>"
      ],
      "text/plain": [
       "<IPython.core.display.HTML object>"
      ]
     },
     "metadata": {},
     "output_type": "display_data"
    },
    {
     "data": {
      "text/plain": [
       "array([[0.48, 0.16, 0.32, 0.12, 0.06],\n",
       "       [0.12, 0.08, 0.14, 0.09, 0.09],\n",
       "       [0.08, 0.48, 0.2 , 0.3 , 0.36],\n",
       "       [0.04, 0.18, 0.08, 0.12, 0.1 ],\n",
       "       [0.16, 0.02, 0.12, 0.28, 0.3 ]])"
      ]
     },
     "metadata": {},
     "output_type": "display_data"
    }
   ],
   "source": [
    "p=0.25\n",
    "p0=0.5\n",
    "# Created matrix to store the result in\n",
    "scaledRow1Down025 = np.array(scaled)\n",
    "# First we scale down our row by p/p0 = 0.25/0.5 = 0.5\n",
    "scaledRow1Down025[1,:] = p/p0 * scaled[1,:]\n",
    "# Now let's see the result\n",
    "display(HTML(\"<h3>Original matrix</h3>\"))\n",
    "display(scaled)\n",
    "display(HTML(\"<h3>Row 1 scaled</h3>\"))\n",
    "display(scaledRow1Down025)"
   ]
  },
  {
   "cell_type": "code",
   "execution_count": 5,
   "metadata": {},
   "outputs": [
    {
     "data": {
      "text/html": [
       "<h3>After column 1 scaled</h3>"
      ],
      "text/plain": [
       "<IPython.core.display.HTML object>"
      ]
     },
     "metadata": {},
     "output_type": "display_data"
    },
    {
     "data": {
      "text/plain": [
       "array([[0.5558, 0.16  , 0.32  , 0.12  , 0.06  ],\n",
       "       [0.12  , 0.08  , 0.14  , 0.09  , 0.09  ],\n",
       "       [0.0926, 0.48  , 0.2   , 0.3   , 0.36  ],\n",
       "       [0.0463, 0.18  , 0.08  , 0.12  , 0.1   ],\n",
       "       [0.1853, 0.02  , 0.12  , 0.28  , 0.3   ]])"
      ]
     },
     "metadata": {},
     "output_type": "display_data"
    },
    {
     "data": {
      "text/html": [
       "<h3>After column 2 scaled</h3>"
      ],
      "text/plain": [
       "<IPython.core.display.HTML object>"
      ]
     },
     "metadata": {},
     "output_type": "display_data"
    },
    {
     "data": {
      "text/plain": [
       "array([[0.5558, 0.1752, 0.32  , 0.12  , 0.06  ],\n",
       "       [0.12  , 0.08  , 0.14  , 0.09  , 0.09  ],\n",
       "       [0.0926, 0.5257, 0.2   , 0.3   , 0.36  ],\n",
       "       [0.0463, 0.1971, 0.08  , 0.12  , 0.1   ],\n",
       "       [0.1853, 0.0219, 0.12  , 0.28  , 0.3   ]])"
      ]
     },
     "metadata": {},
     "output_type": "display_data"
    },
    {
     "data": {
      "text/html": [
       "<h3>After column 3 scaled</h3>"
      ],
      "text/plain": [
       "<IPython.core.display.HTML object>"
      ]
     },
     "metadata": {},
     "output_type": "display_data"
    },
    {
     "data": {
      "text/plain": [
       "array([[0.5558, 0.1752, 0.3822, 0.12  , 0.06  ],\n",
       "       [0.12  , 0.08  , 0.14  , 0.09  , 0.09  ],\n",
       "       [0.0926, 0.5257, 0.2389, 0.3   , 0.36  ],\n",
       "       [0.0463, 0.1971, 0.0956, 0.12  , 0.1   ],\n",
       "       [0.1853, 0.0219, 0.1433, 0.28  , 0.3   ]])"
      ]
     },
     "metadata": {},
     "output_type": "display_data"
    },
    {
     "data": {
      "text/html": [
       "<h3>After column 4 scaled</h3>"
      ],
      "text/plain": [
       "<IPython.core.display.HTML object>"
      ]
     },
     "metadata": {},
     "output_type": "display_data"
    },
    {
     "data": {
      "text/plain": [
       "array([[0.5558, 0.1752, 0.3822, 0.1332, 0.06  ],\n",
       "       [0.12  , 0.08  , 0.14  , 0.09  , 0.09  ],\n",
       "       [0.0926, 0.5257, 0.2389, 0.3329, 0.36  ],\n",
       "       [0.0463, 0.1971, 0.0956, 0.1332, 0.1   ],\n",
       "       [0.1853, 0.0219, 0.1433, 0.3107, 0.3   ]])"
      ]
     },
     "metadata": {},
     "output_type": "display_data"
    },
    {
     "data": {
      "text/html": [
       "<h3>After column 5 scaled</h3>"
      ],
      "text/plain": [
       "<IPython.core.display.HTML object>"
      ]
     },
     "metadata": {},
     "output_type": "display_data"
    },
    {
     "data": {
      "text/plain": [
       "array([[0.5558, 0.1752, 0.3822, 0.1332, 0.0666],\n",
       "       [0.12  , 0.08  , 0.14  , 0.09  , 0.09  ],\n",
       "       [0.0926, 0.5257, 0.2389, 0.3329, 0.3995],\n",
       "       [0.0463, 0.1971, 0.0956, 0.1332, 0.111 ],\n",
       "       [0.1853, 0.0219, 0.1433, 0.3107, 0.3329]])"
      ]
     },
     "metadata": {},
     "output_type": "display_data"
    }
   ],
   "source": [
    "# Above we created a simple function to do the column\n",
    "# rescaling and print out the intermediate step.\n",
    "# Let's just use that in a for loop\n",
    "for column in [0, 1, 2, 3, 4]:\n",
    "    sens_rescale_column(scaled, scaledRow1Down025, 1, column)"
   ]
  },
  {
   "cell_type": "code",
   "execution_count": 6,
   "metadata": {},
   "outputs": [
    {
     "data": {
      "text/html": [
       "<h3>Using the simple rowsens.row_adjust() function instead "
      ],
      "text/plain": [
       "<IPython.core.display.HTML object>"
      ]
     },
     "metadata": {},
     "output_type": "display_data"
    },
    {
     "data": {
      "text/plain": [
       "array([[0.5558, 0.1752, 0.3822, 0.1332, 0.0666],\n",
       "       [0.12  , 0.08  , 0.14  , 0.09  , 0.09  ],\n",
       "       [0.0926, 0.5257, 0.2389, 0.3329, 0.3995],\n",
       "       [0.0463, 0.1971, 0.0956, 0.1332, 0.111 ],\n",
       "       [0.1853, 0.0219, 0.1433, 0.3107, 0.3329]])"
      ]
     },
     "metadata": {},
     "output_type": "display_data"
    }
   ],
   "source": [
    "# Let's look at the rowsens calculation to perform this directly, it should be the same as the above\n",
    "display(HTML(\"<h3>Using the simple rowsens.row_adjust() function instead \"))\n",
    "display(rowsens.row_adjust(scaled, 1, 0.25, p0mode=0.5))"
   ]
  },
  {
   "cell_type": "code",
   "execution_count": 7,
   "metadata": {},
   "outputs": [
    {
     "data": {
      "text/html": [
       "<h3>Original alt scores were</h3>"
      ],
      "text/plain": [
       "<IPython.core.display.HTML object>"
      ]
     },
     "metadata": {},
     "output_type": "display_data"
    },
    {
     "data": {
      "text/plain": [
       "array([0.392, 0.608])"
      ]
     },
     "metadata": {},
     "output_type": "display_data"
    },
    {
     "data": {
      "text/html": [
       "<h3>New alternative scores after scaling down are</h3>"
      ],
      "text/plain": [
       "<IPython.core.display.HTML object>"
      ]
     },
     "metadata": {},
     "output_type": "display_data"
    },
    {
     "data": {
      "text/plain": [
       "array([0.3305, 0.6695])"
      ]
     },
     "metadata": {},
     "output_type": "display_data"
    },
    {
     "data": {
      "text/html": [
       "Notice, this is a relatively small change, which is common for scaling downward"
      ],
      "text/plain": [
       "<IPython.core.display.HTML object>"
      ]
     },
     "metadata": {},
     "output_type": "display_data"
    }
   ],
   "source": [
    "# Let's get our new priority\n",
    "new_alt_scores = lmsynth(scaledRow1Down025, alts)\n",
    "display(HTML(\"<h3>Original alt scores were</h3>\"))\n",
    "display(alt_scores)\n",
    "display(HTML(\"<h3>New alternative scores after scaling down are</h3>\"))\n",
    "display(new_alt_scores)\n",
    "display(HTML(\"Notice, this is a relatively small change, which is common for scaling downward\"))"
   ]
  },
  {
   "cell_type": "markdown",
   "metadata": {},
   "source": [
    "## Let's scale upward p=0.75 and p0=0.5"
   ]
  },
  {
   "cell_type": "code",
   "execution_count": 8,
   "metadata": {},
   "outputs": [
    {
     "data": {
      "text/html": [
       "<h3>After scaling up row 1</h3>"
      ],
      "text/plain": [
       "<IPython.core.display.HTML object>"
      ]
     },
     "metadata": {},
     "output_type": "display_data"
    },
    {
     "data": {
      "text/plain": [
       "array([[0.48, 0.16, 0.32, 0.12, 0.06],\n",
       "       [0.62, 0.58, 0.64, 0.59, 0.59],\n",
       "       [0.08, 0.48, 0.2 , 0.3 , 0.36],\n",
       "       [0.04, 0.18, 0.08, 0.12, 0.1 ],\n",
       "       [0.16, 0.02, 0.12, 0.28, 0.3 ]])"
      ]
     },
     "metadata": {},
     "output_type": "display_data"
    }
   ],
   "source": [
    "p=0.75\n",
    "p0=0.5\n",
    "# Allocate for our result\n",
    "scaledRow1Up075 = np.array(scaled)\n",
    "# First we need to get the second row\n",
    "orig_row = scaled[1,:]\n",
    "one_minus_orig_row = 1 - orig_row\n",
    "# Now we scale down 1-orig_row by (1-p)/(1-p0)\n",
    "new_one_minus = (1-p)/(1-p0) * one_minus_orig_row\n",
    "# Our new row is one minus the above\n",
    "scaledRow1Up075[1,:] = 1 - new_one_minus\n",
    "# Let's verify things look correct\n",
    "display(HTML(\"<h3>After scaling up row 1</h3>\"))\n",
    "display(scaledRow1Up075)"
   ]
  },
  {
   "cell_type": "code",
   "execution_count": 9,
   "metadata": {},
   "outputs": [
    {
     "data": {
      "text/html": [
       "<h3>After column 1 scaled</h3>"
      ],
      "text/plain": [
       "<IPython.core.display.HTML object>"
      ]
     },
     "metadata": {},
     "output_type": "display_data"
    },
    {
     "data": {
      "text/plain": [
       "array([[0.24, 0.16, 0.32, 0.12, 0.06],\n",
       "       [0.62, 0.58, 0.64, 0.59, 0.59],\n",
       "       [0.04, 0.48, 0.2 , 0.3 , 0.36],\n",
       "       [0.02, 0.18, 0.08, 0.12, 0.1 ],\n",
       "       [0.08, 0.02, 0.12, 0.28, 0.3 ]])"
      ]
     },
     "metadata": {},
     "output_type": "display_data"
    },
    {
     "data": {
      "text/html": [
       "<h3>After column 2 scaled</h3>"
      ],
      "text/plain": [
       "<IPython.core.display.HTML object>"
      ]
     },
     "metadata": {},
     "output_type": "display_data"
    },
    {
     "data": {
      "text/plain": [
       "array([[0.24, 0.08, 0.32, 0.12, 0.06],\n",
       "       [0.62, 0.58, 0.64, 0.59, 0.59],\n",
       "       [0.04, 0.24, 0.2 , 0.3 , 0.36],\n",
       "       [0.02, 0.09, 0.08, 0.12, 0.1 ],\n",
       "       [0.08, 0.01, 0.12, 0.28, 0.3 ]])"
      ]
     },
     "metadata": {},
     "output_type": "display_data"
    },
    {
     "data": {
      "text/html": [
       "<h3>After column 3 scaled</h3>"
      ],
      "text/plain": [
       "<IPython.core.display.HTML object>"
      ]
     },
     "metadata": {},
     "output_type": "display_data"
    },
    {
     "data": {
      "text/plain": [
       "array([[0.24, 0.08, 0.16, 0.12, 0.06],\n",
       "       [0.62, 0.58, 0.64, 0.59, 0.59],\n",
       "       [0.04, 0.24, 0.1 , 0.3 , 0.36],\n",
       "       [0.02, 0.09, 0.04, 0.12, 0.1 ],\n",
       "       [0.08, 0.01, 0.06, 0.28, 0.3 ]])"
      ]
     },
     "metadata": {},
     "output_type": "display_data"
    },
    {
     "data": {
      "text/html": [
       "<h3>After column 4 scaled</h3>"
      ],
      "text/plain": [
       "<IPython.core.display.HTML object>"
      ]
     },
     "metadata": {},
     "output_type": "display_data"
    },
    {
     "data": {
      "text/plain": [
       "array([[0.24, 0.08, 0.16, 0.06, 0.06],\n",
       "       [0.62, 0.58, 0.64, 0.59, 0.59],\n",
       "       [0.04, 0.24, 0.1 , 0.15, 0.36],\n",
       "       [0.02, 0.09, 0.04, 0.06, 0.1 ],\n",
       "       [0.08, 0.01, 0.06, 0.14, 0.3 ]])"
      ]
     },
     "metadata": {},
     "output_type": "display_data"
    },
    {
     "data": {
      "text/html": [
       "<h3>After column 5 scaled</h3>"
      ],
      "text/plain": [
       "<IPython.core.display.HTML object>"
      ]
     },
     "metadata": {},
     "output_type": "display_data"
    },
    {
     "data": {
      "text/plain": [
       "array([[0.24, 0.08, 0.16, 0.06, 0.03],\n",
       "       [0.62, 0.58, 0.64, 0.59, 0.59],\n",
       "       [0.04, 0.24, 0.1 , 0.15, 0.18],\n",
       "       [0.02, 0.09, 0.04, 0.06, 0.05],\n",
       "       [0.08, 0.01, 0.06, 0.14, 0.15]])"
      ]
     },
     "metadata": {},
     "output_type": "display_data"
    }
   ],
   "source": [
    "# Now we scale each column like we did before\n",
    "# and we already have functions to do this :)\n",
    "# Let's wrap this in a for loop to make it quick\n",
    "for column in [0, 1, 2, 3, 4]:\n",
    "    sens_rescale_column(scaled, scaledRow1Up075, 1, column)"
   ]
  },
  {
   "cell_type": "code",
   "execution_count": 10,
   "metadata": {},
   "outputs": [
    {
     "data": {
      "text/html": [
       "<h3>Using the simple rowsens.row_adjust() function instead "
      ],
      "text/plain": [
       "<IPython.core.display.HTML object>"
      ]
     },
     "metadata": {},
     "output_type": "display_data"
    },
    {
     "data": {
      "text/plain": [
       "array([[0.24, 0.08, 0.16, 0.06, 0.03],\n",
       "       [0.62, 0.58, 0.64, 0.59, 0.59],\n",
       "       [0.04, 0.24, 0.1 , 0.15, 0.18],\n",
       "       [0.02, 0.09, 0.04, 0.06, 0.05],\n",
       "       [0.08, 0.01, 0.06, 0.14, 0.15]])"
      ]
     },
     "metadata": {},
     "output_type": "display_data"
    }
   ],
   "source": [
    "# Let's look at the rowsens calculation to perform this directly, it should be the same as the above\n",
    "display(HTML(\"<h3>Using the simple rowsens.row_adjust() function instead \"))\n",
    "display(rowsens.row_adjust(scaled, 1, 0.75, p0mode=0.5))"
   ]
  },
  {
   "cell_type": "code",
   "execution_count": 11,
   "metadata": {},
   "outputs": [
    {
     "data": {
      "text/html": [
       "<h3>Original alt scores were</h3>"
      ],
      "text/plain": [
       "<IPython.core.display.HTML object>"
      ]
     },
     "metadata": {},
     "output_type": "display_data"
    },
    {
     "data": {
      "text/plain": [
       "array([0.392, 0.608])"
      ]
     },
     "metadata": {},
     "output_type": "display_data"
    },
    {
     "data": {
      "text/html": [
       "<h3>New alternative scores after scaling up are</h3>"
      ],
      "text/plain": [
       "<IPython.core.display.HTML object>"
      ]
     },
     "metadata": {},
     "output_type": "display_data"
    },
    {
     "data": {
      "text/plain": [
       "array([0.6251, 0.3749])"
      ]
     },
     "metadata": {},
     "output_type": "display_data"
    },
    {
     "data": {
      "text/html": [
       "Notice, this is a <b>big change</b> which happens more frequently when scaling upward"
      ],
      "text/plain": [
       "<IPython.core.display.HTML object>"
      ]
     },
     "metadata": {},
     "output_type": "display_data"
    }
   ],
   "source": [
    "# Let's get our new priority\n",
    "new_alt_scores = lmsynth(scaledRow1Up075, alts)\n",
    "display(HTML(\"<h3>Original alt scores were</h3>\"))\n",
    "display(alt_scores)\n",
    "display(HTML(\"<h3>New alternative scores after scaling up are</h3>\"))\n",
    "display(new_alt_scores)\n",
    "display(HTML(\"Notice, this is a <b>big change</b> which happens more frequently when scaling upward\"))"
   ]
  },
  {
   "cell_type": "markdown",
   "metadata": {},
   "source": [
    "# Sensitivity calculations"
   ]
  },
  {
   "cell_type": "markdown",
   "metadata": {},
   "source": [
    "## Influence"
   ]
  },
  {
   "cell_type": "markdown",
   "metadata": {},
   "source": [
    "* Which of the 3 criteria influences the node scores the most?"
   ]
  },
  {
   "cell_type": "code",
   "execution_count": 12,
   "metadata": {},
   "outputs": [
    {
     "data": {
      "text/html": [
       "The first column is the original score, the 2nd and 3rd are the difference between the original score and the adjusted priority"
      ],
      "text/plain": [
       "<IPython.core.display.HTML object>"
      ]
     },
     "metadata": {},
     "output_type": "display_data"
    },
    {
     "data": {
      "text/html": [
       "<h3>Influence scores for node 0</h3>"
      ],
      "text/plain": [
       "<IPython.core.display.HTML object>"
      ]
     },
     "metadata": {},
     "output_type": "display_data"
    },
    {
     "data": {
      "text/html": [
       "<div>\n",
       "<style scoped>\n",
       "    .dataframe tbody tr th:only-of-type {\n",
       "        vertical-align: middle;\n",
       "    }\n",
       "\n",
       "    .dataframe tbody tr th {\n",
       "        vertical-align: top;\n",
       "    }\n",
       "\n",
       "    .dataframe thead th {\n",
       "        text-align: right;\n",
       "    }\n",
       "</style>\n",
       "<table border=\"1\" class=\"dataframe\">\n",
       "  <thead>\n",
       "    <tr style=\"text-align: right;\">\n",
       "      <th></th>\n",
       "      <th>0.50</th>\n",
       "      <th>0.75</th>\n",
       "      <th>0.90</th>\n",
       "    </tr>\n",
       "  </thead>\n",
       "  <tbody>\n",
       "    <tr>\n",
       "      <th>0</th>\n",
       "      <td>0.392023</td>\n",
       "      <td>-0.092555</td>\n",
       "      <td>-0.151202</td>\n",
       "    </tr>\n",
       "    <tr>\n",
       "      <th>1</th>\n",
       "      <td>0.607977</td>\n",
       "      <td>0.092555</td>\n",
       "      <td>0.151202</td>\n",
       "    </tr>\n",
       "    <tr>\n",
       "      <th>Total</th>\n",
       "      <td>0.000000</td>\n",
       "      <td>0.185110</td>\n",
       "      <td>0.302404</td>\n",
       "    </tr>\n",
       "  </tbody>\n",
       "</table>\n",
       "</div>"
      ],
      "text/plain": [
       "           0.50      0.75      0.90\n",
       "0      0.392023 -0.092555 -0.151202\n",
       "1      0.607977  0.092555  0.151202\n",
       "Total  0.000000  0.185110  0.302404"
      ]
     },
     "metadata": {},
     "output_type": "display_data"
    },
    {
     "data": {
      "text/html": [
       "<h3>Influence scores for node 1</h3>"
      ],
      "text/plain": [
       "<IPython.core.display.HTML object>"
      ]
     },
     "metadata": {},
     "output_type": "display_data"
    },
    {
     "data": {
      "text/html": [
       "<div>\n",
       "<style scoped>\n",
       "    .dataframe tbody tr th:only-of-type {\n",
       "        vertical-align: middle;\n",
       "    }\n",
       "\n",
       "    .dataframe tbody tr th {\n",
       "        vertical-align: top;\n",
       "    }\n",
       "\n",
       "    .dataframe thead th {\n",
       "        text-align: right;\n",
       "    }\n",
       "</style>\n",
       "<table border=\"1\" class=\"dataframe\">\n",
       "  <thead>\n",
       "    <tr style=\"text-align: right;\">\n",
       "      <th></th>\n",
       "      <th>0.50</th>\n",
       "      <th>0.75</th>\n",
       "      <th>0.90</th>\n",
       "    </tr>\n",
       "  </thead>\n",
       "  <tbody>\n",
       "    <tr>\n",
       "      <th>0</th>\n",
       "      <td>0.392023</td>\n",
       "      <td>0.233096</td>\n",
       "      <td>0.392795</td>\n",
       "    </tr>\n",
       "    <tr>\n",
       "      <th>1</th>\n",
       "      <td>0.607977</td>\n",
       "      <td>-0.233096</td>\n",
       "      <td>-0.392795</td>\n",
       "    </tr>\n",
       "    <tr>\n",
       "      <th>Total</th>\n",
       "      <td>0.000000</td>\n",
       "      <td>0.466192</td>\n",
       "      <td>0.785589</td>\n",
       "    </tr>\n",
       "  </tbody>\n",
       "</table>\n",
       "</div>"
      ],
      "text/plain": [
       "           0.50      0.75      0.90\n",
       "0      0.392023  0.233096  0.392795\n",
       "1      0.607977 -0.233096 -0.392795\n",
       "Total  0.000000  0.466192  0.785589"
      ]
     },
     "metadata": {},
     "output_type": "display_data"
    },
    {
     "data": {
      "text/html": [
       "<h3>Influence scores for node 2</h3>"
      ],
      "text/plain": [
       "<IPython.core.display.HTML object>"
      ]
     },
     "metadata": {},
     "output_type": "display_data"
    },
    {
     "data": {
      "text/html": [
       "<div>\n",
       "<style scoped>\n",
       "    .dataframe tbody tr th:only-of-type {\n",
       "        vertical-align: middle;\n",
       "    }\n",
       "\n",
       "    .dataframe tbody tr th {\n",
       "        vertical-align: top;\n",
       "    }\n",
       "\n",
       "    .dataframe thead th {\n",
       "        text-align: right;\n",
       "    }\n",
       "</style>\n",
       "<table border=\"1\" class=\"dataframe\">\n",
       "  <thead>\n",
       "    <tr style=\"text-align: right;\">\n",
       "      <th></th>\n",
       "      <th>0.50</th>\n",
       "      <th>0.75</th>\n",
       "      <th>0.90</th>\n",
       "    </tr>\n",
       "  </thead>\n",
       "  <tbody>\n",
       "    <tr>\n",
       "      <th>0</th>\n",
       "      <td>0.392023</td>\n",
       "      <td>0.011019</td>\n",
       "      <td>0.01125</td>\n",
       "    </tr>\n",
       "    <tr>\n",
       "      <th>1</th>\n",
       "      <td>0.607977</td>\n",
       "      <td>-0.011019</td>\n",
       "      <td>-0.01125</td>\n",
       "    </tr>\n",
       "    <tr>\n",
       "      <th>Total</th>\n",
       "      <td>0.000000</td>\n",
       "      <td>0.022038</td>\n",
       "      <td>0.02250</td>\n",
       "    </tr>\n",
       "  </tbody>\n",
       "</table>\n",
       "</div>"
      ],
      "text/plain": [
       "           0.50      0.75     0.90\n",
       "0      0.392023  0.011019  0.01125\n",
       "1      0.607977 -0.011019 -0.01125\n",
       "Total  0.000000  0.022038  0.02250"
      ]
     },
     "metadata": {},
     "output_type": "display_data"
    }
   ],
   "source": [
    "display(HTML(\"The first column is the original score, the 2nd and 3rd are the difference between the original score and the adjusted priority\"))\n",
    "for node in [0, 1, 2]:\n",
    "    infl_050 = influence_priority(scaled, node, 0.5, alts, p0mode=0.5)\n",
    "    infl_075 = influence_priority(scaled, node, 0.75, alts, p0mode=0.5)\n",
    "    diff075=infl_075-infl_050\n",
    "    infl_090 = influence_priority(scaled, node, 0.90, alts, p0mode=0.5)\n",
    "    diff090=infl_090-infl_050\n",
    "    display(HTML(\"<h3>Influence scores for node \"+str(node)+\"</h3>\"))\n",
    "    df = pd.DataFrame({\"0.50\":infl_050, \"0.75\":diff075, \"0.90\":diff090})\n",
    "    new_index = len(df)\n",
    "    df.loc[len(df)] = [0, sum(np.abs(diff075)), sum(np.abs(diff090))]\n",
    "    df.rename(index={new_index:\"Total\"}, inplace=True)\n",
    "    display(df)\n"
   ]
  },
  {
   "cell_type": "markdown",
   "metadata": {},
   "source": [
    "### Influence conclusions"
   ]
  },
  {
   "cell_type": "markdown",
   "metadata": {},
   "source": [
    "* Clearly node 1 has the most influence, having a total change of alternative score of 0.446192 and p=0.75\n",
    "* And then 0.785589 at p=0.90"
   ]
  },
  {
   "cell_type": "code",
   "execution_count": null,
   "metadata": {},
   "outputs": [],
   "source": []
  }
 ],
 "metadata": {
  "kernelspec": {
   "display_name": "Python 3",
   "language": "python",
   "name": "python3"
  },
  "language_info": {
   "codemirror_mode": {
    "name": "ipython",
    "version": 3
   },
   "file_extension": ".py",
   "mimetype": "text/x-python",
   "name": "python",
   "nbconvert_exporter": "python",
   "pygments_lexer": "ipython3",
   "version": "3.7.6"
  },
  "toc": {
   "base_numbering": 1,
   "nav_menu": {},
   "number_sections": true,
   "sideBar": true,
   "skip_h1_title": false,
   "title_cell": "Table of Contents",
   "title_sidebar": "Contents",
   "toc_cell": false,
   "toc_position": {},
   "toc_section_display": true,
   "toc_window_display": false
  }
 },
 "nbformat": 4,
 "nbformat_minor": 4
}
